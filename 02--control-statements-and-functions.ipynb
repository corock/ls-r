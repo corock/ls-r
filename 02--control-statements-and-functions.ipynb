{
 "cells": [
  {
   "cell_type": "code",
   "execution_count": 1,
   "metadata": {},
   "outputs": [
    {
     "name": "stdout",
     "output_type": "stream",
     "text": [
      "[1] 0.275708\n",
      "[1] 0.275708\n",
      "[1] 0.724292\n"
     ]
    },
    {
     "data": {
      "text/html": [
       "0.724291962338611"
      ],
      "text/latex": [
       "0.724291962338611"
      ],
      "text/markdown": [
       "0.724291962338611"
      ],
      "text/plain": [
       "[1] 0.724292"
      ]
     },
     "metadata": {},
     "output_type": "display_data"
    }
   ],
   "source": [
    "# 조건문\n",
    "\n",
    "# 0과 1 사이의 난수를 생성해서 x에 할당\n",
    "x <- runif(1)\n",
    "print(x)\n",
    "\n",
    "# x가 0보다 크면 절댓값을 화면에 출력\n",
    "if (x > 0) print(abs(x))\n",
    "\n",
    "# x가 0.5보다 작으면 1 - x를 출력 아니면 x를 출력\n",
    "if (x < 0.5) print(1 - x) else print(x)\n",
    "\n",
    "# 위와 동일\n",
    "ifelse(x < 0.5, 1 - x, x)"
   ]
  },
  {
   "cell_type": "code",
   "execution_count": 4,
   "metadata": {},
   "outputs": [
    {
     "name": "stdout",
     "output_type": "stream",
     "text": [
      "[1] 11\n",
      "[1] \"홀수\"\n"
     ]
    },
    {
     "data": {
      "text/html": [
       "'홀수'"
      ],
      "text/latex": [
       "'홀수'"
      ],
      "text/markdown": [
       "'홀수'"
      ],
      "text/plain": [
       "[1] \"홀수\""
      ]
     },
     "metadata": {},
     "output_type": "display_data"
    }
   ],
   "source": [
    "# 조건문\n",
    "x <- 11\n",
    "print(x)\n",
    "\n",
    "# x가 짝수이면 출력\n",
    "if (x %% 2 == 0) print(\"짝수\")\n",
    "\n",
    "# 짝수, 홀수 출력\n",
    "if (x %% 2 == 0) print(\"짝수\") else print(\"홀수\")\n",
    "\n",
    "# 위와 동일\n",
    "# ifelse(조건식, true일 때, false일 때)\n",
    "ifelse(x %% 2 == 0, \"짝수\", \"홀수\")"
   ]
  },
  {
   "cell_type": "code",
   "execution_count": 2,
   "metadata": {},
   "outputs": [
    {
     "name": "stdout",
     "output_type": "stream",
     "text": [
      "[1] -9\n",
      "[1] \"홀수입니다.\"\n",
      "[1] 9\n"
     ]
    }
   ],
   "source": [
    "a <- -9\n",
    "if (a %% 2 == 0) {\n",
    "  print(a)\n",
    "  print(\"짝수입니다.\")\n",
    "  print(abs(a))\n",
    "} else {\n",
    "  print(a)\n",
    "  print(\"홀수입니다.\")\n",
    "  print(abs(a))\n",
    "}"
   ]
  },
  {
   "cell_type": "code",
   "execution_count": 3,
   "metadata": {},
   "outputs": [
    {
     "name": "stdout",
     "output_type": "stream",
     "text": [
      "[1] 9\n",
      "[1] \"A\"\n"
     ]
    }
   ],
   "source": [
    "point <- 95\n",
    "\n",
    "# 정수 몫\n",
    "grade <- point %/% 10\n",
    "print(grade)\n",
    "\n",
    "# as.character(): 숫자를 문자로\n",
    "# as.numeric()\n",
    "# as.logical()\n",
    "# swtich(조건식, 조건 1, 조건 2, 조건 3, 그 외의 조건)\n",
    "switch(\n",
    "  as.character(grade),\n",
    "  \"10\" = print(\"A\"),\n",
    "  \"9\" = print(\"A\"),\n",
    "  \"8\" = print(\"B\"),\n",
    "  \"7\" = print(\"C\"),\n",
    "  \"6\" = print(\"D\"),\n",
    "  print(\"F\")\n",
    ")"
   ]
  },
  {
   "cell_type": "code",
   "execution_count": 13,
   "metadata": {},
   "outputs": [
    {
     "data": {
      "text/html": [
       "2500"
      ],
      "text/latex": [
       "2500"
      ],
      "text/markdown": [
       "2500"
      ],
      "text/plain": [
       "[1] 2500"
      ]
     },
     "metadata": {},
     "output_type": "display_data"
    }
   ],
   "source": [
    "sum1 <- 0\n",
    "\n",
    "# 1부터 10까지 1씩 증가\n",
    "# for(개별값 in 집합변수)\n",
    "for (i in seq(1, 100, by = 2)) sum1 <- sum1 + i\n",
    "sum1"
   ]
  },
  {
   "cell_type": "code",
   "execution_count": 17,
   "metadata": {},
   "outputs": [
    {
     "data": {
      "text/html": [
       "'a = 10'"
      ],
      "text/latex": [
       "'a = 10'"
      ],
      "text/markdown": [
       "'a = 10'"
      ],
      "text/plain": [
       "[1] \"a = 10\""
      ]
     },
     "metadata": {},
     "output_type": "display_data"
    },
    {
     "name": "stdout",
     "output_type": "stream",
     "text": [
      "a= 10[1] 10\n"
     ]
    }
   ],
   "source": [
    "a <- 10\n",
    "# print(\"a =\" + a)    \n",
    "paste(\"a =\", a)       # 공백문자로 연결됨\n",
    "cat(\"a=\", a)          # 줄 바꿈을 하지 않음\n",
    "# cat(\"a=\", a, \"\\n\")  # 줄 바꿈 추가\n",
    "print(a)"
   ]
  },
  {
   "cell_type": "code",
   "execution_count": 18,
   "metadata": {},
   "outputs": [
    {
     "name": "stdout",
     "output_type": "stream",
     "text": [
      "3 x 1 = 3 \n",
      "3 x 2 = 6 \n",
      "3 x 3 = 9 \n",
      "3 x 4 = 12 \n",
      "3 x 5 = 15 \n",
      "3 x 6 = 18 \n",
      "3 x 7 = 21 \n",
      "3 x 8 = 24 \n",
      "3 x 9 = 27 \n",
      "3 x 10 = 30 \n"
     ]
    }
   ],
   "source": [
    "dan <- 3\n",
    "\n",
    "# cat(): 연결함수, 줄 바꿈을 하지 않음\n",
    "for (i in seq(1, 10)) {\n",
    "  cat(dan, \"x\", i, \"=\", dan * i, \"\\n\")\n",
    "  # print(paste(dan, \"x\", i, \"=\", dan * i))\n",
    "}"
   ]
  },
  {
   "cell_type": "code",
   "execution_count": 19,
   "metadata": {},
   "outputs": [
    {
     "name": "stdout",
     "output_type": "stream",
     "text": [
      "단을 입력하세요: 8\n",
      "[1] \"character\"\n",
      "8 x 1 = 8 \n",
      "8 x 2 = 16 \n",
      "8 x 3 = 24 \n",
      "8 x 4 = 32 \n",
      "8 x 5 = 40 \n",
      "8 x 6 = 48 \n",
      "8 x 7 = 56 \n",
      "8 x 8 = 64 \n",
      "8 x 9 = 72 \n"
     ]
    }
   ],
   "source": [
    "gugu <- function() {\n",
    "  # 입력을 기다린다\n",
    "  dan <- readline(\"단을 입력하세요: \")\n",
    "  print(class(dan))\n",
    "  dan <- as.integer(dan)\n",
    "  for (i in seq(1, 9)) {\n",
    "    cat(dan, \"x\", i, \"=\", dan * i, \"\\n\")\n",
    "  }\n",
    "}\n",
    "\n",
    "gugu()"
   ]
  },
  {
   "cell_type": "code",
   "execution_count": 9,
   "metadata": {},
   "outputs": [
    {
     "name": "stdout",
     "output_type": "stream",
     "text": [
      "\n",
      "===== 2 단=====\n",
      "2 x 1 = 2 \n",
      "2 x 2 = 4 \n",
      "2 x 3 = 6 \n",
      "2 x 4 = 8 \n",
      "2 x 5 = 10 \n",
      "2 x 6 = 12 \n",
      "2 x 7 = 14 \n",
      "2 x 8 = 16 \n",
      "2 x 9 = 18 \n",
      "\n",
      "===== 3 단=====\n",
      "3 x 1 = 3 \n",
      "3 x 2 = 6 \n",
      "3 x 3 = 9 \n",
      "3 x 4 = 12 \n",
      "3 x 5 = 15 \n",
      "3 x 6 = 18 \n",
      "3 x 7 = 21 \n",
      "3 x 8 = 24 \n",
      "3 x 9 = 27 \n",
      "\n",
      "===== 4 단=====\n",
      "4 x 1 = 4 \n",
      "4 x 2 = 8 \n",
      "4 x 3 = 12 \n",
      "4 x 4 = 16 \n",
      "4 x 5 = 20 \n",
      "4 x 6 = 24 \n",
      "4 x 7 = 28 \n",
      "4 x 8 = 32 \n",
      "4 x 9 = 36 \n",
      "\n",
      "===== 5 단=====\n",
      "5 x 1 = 5 \n",
      "5 x 2 = 10 \n",
      "5 x 3 = 15 \n",
      "5 x 4 = 20 \n",
      "5 x 5 = 25 \n",
      "5 x 6 = 30 \n",
      "5 x 7 = 35 \n",
      "5 x 8 = 40 \n",
      "5 x 9 = 45 \n",
      "\n",
      "===== 6 단=====\n",
      "6 x 1 = 6 \n",
      "6 x 2 = 12 \n",
      "6 x 3 = 18 \n",
      "6 x 4 = 24 \n",
      "6 x 5 = 30 \n",
      "6 x 6 = 36 \n",
      "6 x 7 = 42 \n",
      "6 x 8 = 48 \n",
      "6 x 9 = 54 \n",
      "\n",
      "===== 7 단=====\n",
      "7 x 1 = 7 \n",
      "7 x 2 = 14 \n",
      "7 x 3 = 21 \n",
      "7 x 4 = 28 \n",
      "7 x 5 = 35 \n",
      "7 x 6 = 42 \n",
      "7 x 7 = 49 \n",
      "7 x 8 = 56 \n",
      "7 x 9 = 63 \n",
      "\n",
      "===== 8 단=====\n",
      "8 x 1 = 8 \n",
      "8 x 2 = 16 \n",
      "8 x 3 = 24 \n",
      "8 x 4 = 32 \n",
      "8 x 5 = 40 \n",
      "8 x 6 = 48 \n",
      "8 x 7 = 56 \n",
      "8 x 8 = 64 \n",
      "8 x 9 = 72 \n",
      "\n",
      "===== 9 단=====\n",
      "9 x 1 = 9 \n",
      "9 x 2 = 18 \n",
      "9 x 3 = 27 \n",
      "9 x 4 = 36 \n",
      "9 x 5 = 45 \n",
      "9 x 6 = 54 \n",
      "9 x 7 = 63 \n",
      "9 x 8 = 72 \n",
      "9 x 9 = 81 \n"
     ]
    }
   ],
   "source": [
    "# 출력문에서 줄 바꿈을 하고 싶을 경우 cat 사용\n",
    "for (i in seq(2, 9)) {\n",
    "  cat(paste(\"\\n=====\", i, \"단=====\\n\"))\n",
    "  for (j in seq(1, 9)) {\n",
    "    cat(paste(i, \"x\", j, \"=\", i * j, \"\\n\"))\n",
    "  }\n",
    "}"
   ]
  },
  {
   "cell_type": "code",
   "execution_count": 11,
   "metadata": {},
   "outputs": [
    {
     "data": {
      "text/html": [
       "55"
      ],
      "text/latex": [
       "55"
      ],
      "text/markdown": [
       "55"
      ],
      "text/plain": [
       "[1] 55"
      ]
     },
     "metadata": {},
     "output_type": "display_data"
    }
   ],
   "source": [
    "sum <- 0\n",
    "i <- 1\n",
    "\n",
    "while (i <= 10) {\n",
    "  sum <- sum + i\n",
    "  i <- i + 1\n",
    "}\n",
    "\n",
    "sum"
   ]
  },
  {
   "cell_type": "code",
   "execution_count": 12,
   "metadata": {},
   "outputs": [
    {
     "data": {
      "text/html": [
       "55"
      ],
      "text/latex": [
       "55"
      ],
      "text/markdown": [
       "55"
      ],
      "text/plain": [
       "[1] 55"
      ]
     },
     "metadata": {},
     "output_type": "display_data"
    }
   ],
   "source": [
    "sum3 <- 0\n",
    "i <- 1\n",
    "\n",
    "# 탈출 조건을 직접 작성해야 함(선 실행 후 검사)\n",
    "repeat {\n",
    "  sum3 <- sum3 + i\n",
    "  i <- i + 1\n",
    "\n",
    "  if (i > 10)\n",
    "    break\n",
    "}\n",
    "\n",
    "sum3"
   ]
  },
  {
   "cell_type": "code",
   "execution_count": 20,
   "metadata": {},
   "outputs": [
    {
     "data": {
      "text/html": [
       "2.23606797749979"
      ],
      "text/latex": [
       "2.23606797749979"
      ],
      "text/markdown": [
       "2.23606797749979"
      ],
      "text/plain": [
       "[1] 2.236068"
      ]
     },
     "metadata": {},
     "output_type": "display_data"
    },
    {
     "data": {
      "text/html": [
       "<ol class=list-inline>\n",
       "\t<li>1</li>\n",
       "\t<li>1.4142135623731</li>\n",
       "\t<li>1.73205080756888</li>\n",
       "\t<li>2</li>\n",
       "\t<li>2.23606797749979</li>\n",
       "</ol>\n"
      ],
      "text/latex": [
       "\\begin{enumerate*}\n",
       "\\item 1\n",
       "\\item 1.4142135623731\n",
       "\\item 1.73205080756888\n",
       "\\item 2\n",
       "\\item 2.23606797749979\n",
       "\\end{enumerate*}\n"
      ],
      "text/markdown": [
       "1. 1\n",
       "2. 1.4142135623731\n",
       "3. 1.73205080756888\n",
       "4. 2\n",
       "5. 2.23606797749979\n",
       "\n",
       "\n"
      ],
      "text/plain": [
       "[1] 1.000000 1.414214 1.732051 2.000000 2.236068"
      ]
     },
     "metadata": {},
     "output_type": "display_data"
    }
   ],
   "source": [
    "# 내장함수(Built-in Functions)\n",
    "sqrt(5)\n",
    "sqrt(c(1, 2, 3, 4, 5))"
   ]
  },
  {
   "cell_type": "code",
   "execution_count": 21,
   "metadata": {},
   "outputs": [
    {
     "data": {
      "text/plain": [
       "   Min. 1st Qu.  Median    Mean 3rd Qu.    Max. \n",
       "  1.000   3.000   5.000   4.667   6.000   8.000 "
      ]
     },
     "metadata": {},
     "output_type": "display_data"
    },
    {
     "data": {
      "text/html": [
       "4.66666666666667"
      ],
      "text/latex": [
       "4.66666666666667"
      ],
      "text/markdown": [
       "4.66666666666667"
      ],
      "text/plain": [
       "[1] 4.666667"
      ]
     },
     "metadata": {},
     "output_type": "display_data"
    },
    {
     "data": {
      "text/html": [
       "5"
      ],
      "text/latex": [
       "5"
      ],
      "text/markdown": [
       "5"
      ],
      "text/plain": [
       "[1] 5"
      ]
     },
     "metadata": {},
     "output_type": "display_data"
    }
   ],
   "source": [
    "# 통계관련 함수\n",
    "a = c(1, 2, 3, 4, 5, 6, 6, 7, 8)\n",
    "\n",
    "# 통계량 정보\n",
    "summary(a)\n",
    "\n",
    "# 평균\n",
    "mean(a)\n",
    "\n",
    "# 중앙값\n",
    "median(a)"
   ]
  },
  {
   "cell_type": "code",
   "execution_count": 22,
   "metadata": {},
   "outputs": [
    {
     "ename": "ERROR",
     "evalue": "Error in parse(text = x, srcfile = src): <text>:2:10: 예상하지 못한 기호(symbol)입니다.\n1: # 에러 발생 - 함수 이름은 좌변에 작성해야 함\n2: function hello\n            ^\n",
     "output_type": "error",
     "traceback": [
      "Error in parse(text = x, srcfile = src): <text>:2:10: 예상하지 못한 기호(symbol)입니다.\n1: # 에러 발생 - 함수 이름은 좌변에 작성해야 함\n2: function hello\n            ^\nTraceback:\n"
     ]
    }
   ],
   "source": [
    "# 에러 발생 - 함수 이름은 좌변에 작성해야 함\n",
    "function hello() {\n",
    "  print(\"hello\")\n",
    "}"
   ]
  },
  {
   "cell_type": "code",
   "execution_count": 23,
   "metadata": {},
   "outputs": [
    {
     "name": "stdout",
     "output_type": "stream",
     "text": [
      "[1] \"hello\"\n"
     ]
    }
   ],
   "source": [
    "# 리턴 값이 없는 함수\n",
    "hello <- function() {\n",
    "  print(\"hello\")\n",
    "}\n",
    "\n",
    "hello()"
   ]
  },
  {
   "cell_type": "code",
   "execution_count": 24,
   "metadata": {},
   "outputs": [
    {
     "data": {
      "text/html": [
       "200"
      ],
      "text/latex": [
       "200"
      ],
      "text/markdown": [
       "200"
      ],
      "text/plain": [
       "[1] 200"
      ]
     },
     "metadata": {},
     "output_type": "display_data"
    }
   ],
   "source": [
    "# 리턴 값이 있고 인수가 없는 함수\n",
    "test1 <- function() {\n",
    "  x <- 10\n",
    "  y <- 20\n",
    "  return(x * y)\n",
    "}\n",
    "\n",
    "test1()"
   ]
  },
  {
   "cell_type": "code",
   "execution_count": 26,
   "metadata": {},
   "outputs": [
    {
     "data": {
      "text/html": [
       "200"
      ],
      "text/latex": [
       "200"
      ],
      "text/markdown": [
       "200"
      ],
      "text/plain": [
       "[1] 200"
      ]
     },
     "metadata": {},
     "output_type": "display_data"
    }
   ],
   "source": [
    "# 리턴 값이 있고 인수가 있는 함수\n",
    "test2 <- function(x, y) {\n",
    "  xx <- x\n",
    "  yy <- y\n",
    "  return(sum(xx * yy))\n",
    "}\n",
    "\n",
    "test2(10, 20)"
   ]
  },
  {
   "cell_type": "code",
   "execution_count": 27,
   "metadata": {},
   "outputs": [
    {
     "data": {
      "text/html": [
       "200"
      ],
      "text/latex": [
       "200"
      ],
      "text/markdown": [
       "200"
      ],
      "text/plain": [
       "[1] 200"
      ]
     },
     "metadata": {},
     "output_type": "display_data"
    }
   ],
   "source": [
    "# 함수 안에서 다른 함수를 호출\n",
    "test3 <- function(x, y) {\n",
    "  x3 <- x + 1\n",
    "  y3 <- y + 1\n",
    "  x4 <- test2(x3, y3)\n",
    "  return(x4)\n",
    "}\n",
    "\n",
    "test3(9, 19)"
   ]
  },
  {
   "cell_type": "code",
   "execution_count": 28,
   "metadata": {},
   "outputs": [
    {
     "data": {
      "text/html": [
       "100"
      ],
      "text/latex": [
       "100"
      ],
      "text/markdown": [
       "100"
      ],
      "text/plain": [
       "[1] 100"
      ]
     },
     "metadata": {},
     "output_type": "display_data"
    }
   ],
   "source": [
    "# 함수의 계산 결과를 화면에 보이지 않고 변수에 대입하는 경우(invisible)\n",
    "test4 <- function() {\n",
    "  x <- 10\n",
    "  y <- 10\n",
    "  return(invisible(x * y))\n",
    "  # return(x * y)\n",
    "}\n",
    "\n",
    "# 함수 호출. 결과는 화면에 보이지 않는다\n",
    "test4()\n",
    "\n",
    "# 함수의 리턴 값이 result 변수에 할당된다\n",
    "result <- test4()\n",
    "\n",
    "# 결과 값의 확인\n",
    "result"
   ]
  }
 ],
 "metadata": {
  "kernelspec": {
   "display_name": "R",
   "language": "R",
   "name": "ir"
  },
  "language_info": {
   "codemirror_mode": "r",
   "file_extension": ".r",
   "mimetype": "text/x-r-source",
   "name": "R",
   "pygments_lexer": "r",
   "version": "3.6.1"
  }
 },
 "nbformat": 4,
 "nbformat_minor": 2
}
