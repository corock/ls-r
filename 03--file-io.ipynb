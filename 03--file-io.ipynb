{
 "cells": [
  {
   "cell_type": "code",
   "execution_count": 1,
   "metadata": {},
   "outputs": [],
   "source": [
    "# 벡터(Vector) 형식의 데이터를 선언한다.\n",
    "no <- c(1, 2, 3, 4)\n",
    "name <- c(\"Apple\", \"Banana\", \"Peach\", \"Berry\")\n",
    "prices <- c(500, 200, 200, 50)\n",
    "qty <- c(5, 2, 7, 9)"
   ]
  },
  {
   "cell_type": "code",
   "execution_count": 2,
   "metadata": {},
   "outputs": [
    {
     "data": {
      "text/html": [
       "<table>\n",
       "<thead><tr><th scope=col>No</th><th scope=col>Name</th><th scope=col>Price</th><th scope=col>QTY</th></tr></thead>\n",
       "<tbody>\n",
       "\t<tr><td>1     </td><td>Apple </td><td>500   </td><td>5     </td></tr>\n",
       "\t<tr><td>2     </td><td>Banana</td><td>200   </td><td>2     </td></tr>\n",
       "\t<tr><td>3     </td><td>Peach </td><td>200   </td><td>7     </td></tr>\n",
       "\t<tr><td>4     </td><td>Berry </td><td> 50   </td><td>9     </td></tr>\n",
       "</tbody>\n",
       "</table>\n"
      ],
      "text/latex": [
       "\\begin{tabular}{r|llll}\n",
       " No & Name & Price & QTY\\\\\n",
       "\\hline\n",
       "\t 1      & Apple  & 500    & 5     \\\\\n",
       "\t 2      & Banana & 200    & 2     \\\\\n",
       "\t 3      & Peach  & 200    & 7     \\\\\n",
       "\t 4      & Berry  &  50    & 9     \\\\\n",
       "\\end{tabular}\n"
      ],
      "text/markdown": [
       "\n",
       "| No | Name | Price | QTY |\n",
       "|---|---|---|---|\n",
       "| 1      | Apple  | 500    | 5      |\n",
       "| 2      | Banana | 200    | 2      |\n",
       "| 3      | Peach  | 200    | 7      |\n",
       "| 4      | Berry  |  50    | 9      |\n",
       "\n"
      ],
      "text/plain": [
       "  No Name   Price QTY\n",
       "1 1  Apple  500   5  \n",
       "2 2  Banana 200   2  \n",
       "3 3  Peach  200   7  \n",
       "4 4  Berry   50   9  "
      ]
     },
     "metadata": {},
     "output_type": "display_data"
    }
   ],
   "source": [
    "# 벡터 형식의 데이터를 모아서 데이터 프레임 형식의 데이터로 구성\n",
    "fruit <- data.frame(No = no, Name = name, Price = prices, QTY = qty)\n",
    "fruit"
   ]
  },
  {
   "cell_type": "code",
   "execution_count": 3,
   "metadata": {},
   "outputs": [
    {
     "data": {
      "text/html": [
       "<ol class=list-inline>\n",
       "\t<li>'fruit'</li>\n",
       "\t<li>'name'</li>\n",
       "\t<li>'no'</li>\n",
       "\t<li>'prices'</li>\n",
       "\t<li>'qty'</li>\n",
       "</ol>\n"
      ],
      "text/latex": [
       "\\begin{enumerate*}\n",
       "\\item 'fruit'\n",
       "\\item 'name'\n",
       "\\item 'no'\n",
       "\\item 'prices'\n",
       "\\item 'qty'\n",
       "\\end{enumerate*}\n"
      ],
      "text/markdown": [
       "1. 'fruit'\n",
       "2. 'name'\n",
       "3. 'no'\n",
       "4. 'prices'\n",
       "5. 'qty'\n",
       "\n",
       "\n"
      ],
      "text/plain": [
       "[1] \"fruit\"  \"name\"   \"no\"     \"prices\" \"qty\"   "
      ]
     },
     "metadata": {},
     "output_type": "display_data"
    }
   ],
   "source": [
    "# 현재 선언된 변수 목록 확인\n",
    "ls()"
   ]
  },
  {
   "cell_type": "code",
   "execution_count": 5,
   "metadata": {},
   "outputs": [],
   "source": [
    "# no, name, fruit을 test.data 파일에 저장\n",
    "save(no, name, fruit, file = \"D:/data/R/test.dat\")\n",
    "\n",
    "# 저장된 파일을 확인, 에디터로는 읽을 수 없음"
   ]
  },
  {
   "cell_type": "code",
   "execution_count": 6,
   "metadata": {},
   "outputs": [
    {
     "data": {
      "text/html": [
       "<ol class=list-inline>\n",
       "\t<li>'prices'</li>\n",
       "\t<li>'qty'</li>\n",
       "</ol>\n"
      ],
      "text/latex": [
       "\\begin{enumerate*}\n",
       "\\item 'prices'\n",
       "\\item 'qty'\n",
       "\\end{enumerate*}\n"
      ],
      "text/markdown": [
       "1. 'prices'\n",
       "2. 'qty'\n",
       "\n",
       "\n"
      ],
      "text/plain": [
       "[1] \"prices\" \"qty\"   "
      ]
     },
     "metadata": {},
     "output_type": "display_data"
    }
   ],
   "source": [
    "rm(fruit, no, name)   # 선언된 변수 삭제\n",
    "ls()                  # no, name, fruit 변수 삭제 확인"
   ]
  },
  {
   "cell_type": "code",
   "execution_count": 7,
   "metadata": {},
   "outputs": [
    {
     "data": {
      "text/html": [
       "<ol class=list-inline>\n",
       "\t<li>'fruit'</li>\n",
       "\t<li>'name'</li>\n",
       "\t<li>'no'</li>\n",
       "\t<li>'prices'</li>\n",
       "\t<li>'qty'</li>\n",
       "</ol>\n"
      ],
      "text/latex": [
       "\\begin{enumerate*}\n",
       "\\item 'fruit'\n",
       "\\item 'name'\n",
       "\\item 'no'\n",
       "\\item 'prices'\n",
       "\\item 'qty'\n",
       "\\end{enumerate*}\n"
      ],
      "text/markdown": [
       "1. 'fruit'\n",
       "2. 'name'\n",
       "3. 'no'\n",
       "4. 'prices'\n",
       "5. 'qty'\n",
       "\n",
       "\n"
      ],
      "text/plain": [
       "[1] \"fruit\"  \"name\"   \"no\"     \"prices\" \"qty\"   "
      ]
     },
     "metadata": {},
     "output_type": "display_data"
    },
    {
     "data": {
      "text/html": [
       "<ol class=list-inline>\n",
       "\t<li>1</li>\n",
       "\t<li>2</li>\n",
       "\t<li>3</li>\n",
       "\t<li>4</li>\n",
       "</ol>\n"
      ],
      "text/latex": [
       "\\begin{enumerate*}\n",
       "\\item 1\n",
       "\\item 2\n",
       "\\item 3\n",
       "\\item 4\n",
       "\\end{enumerate*}\n"
      ],
      "text/markdown": [
       "1. 1\n",
       "2. 2\n",
       "3. 3\n",
       "4. 4\n",
       "\n",
       "\n"
      ],
      "text/plain": [
       "[1] 1 2 3 4"
      ]
     },
     "metadata": {},
     "output_type": "display_data"
    },
    {
     "data": {
      "text/html": [
       "<ol class=list-inline>\n",
       "\t<li>'Apple'</li>\n",
       "\t<li>'Banana'</li>\n",
       "\t<li>'Peach'</li>\n",
       "\t<li>'Berry'</li>\n",
       "</ol>\n"
      ],
      "text/latex": [
       "\\begin{enumerate*}\n",
       "\\item 'Apple'\n",
       "\\item 'Banana'\n",
       "\\item 'Peach'\n",
       "\\item 'Berry'\n",
       "\\end{enumerate*}\n"
      ],
      "text/markdown": [
       "1. 'Apple'\n",
       "2. 'Banana'\n",
       "3. 'Peach'\n",
       "4. 'Berry'\n",
       "\n",
       "\n"
      ],
      "text/plain": [
       "[1] \"Apple\"  \"Banana\" \"Peach\"  \"Berry\" "
      ]
     },
     "metadata": {},
     "output_type": "display_data"
    },
    {
     "data": {
      "text/html": [
       "<table>\n",
       "<thead><tr><th scope=col>No</th><th scope=col>Name</th><th scope=col>Price</th><th scope=col>QTY</th></tr></thead>\n",
       "<tbody>\n",
       "\t<tr><td>1     </td><td>Apple </td><td>500   </td><td>5     </td></tr>\n",
       "\t<tr><td>2     </td><td>Banana</td><td>200   </td><td>2     </td></tr>\n",
       "\t<tr><td>3     </td><td>Peach </td><td>200   </td><td>7     </td></tr>\n",
       "\t<tr><td>4     </td><td>Berry </td><td> 50   </td><td>9     </td></tr>\n",
       "</tbody>\n",
       "</table>\n"
      ],
      "text/latex": [
       "\\begin{tabular}{r|llll}\n",
       " No & Name & Price & QTY\\\\\n",
       "\\hline\n",
       "\t 1      & Apple  & 500    & 5     \\\\\n",
       "\t 2      & Banana & 200    & 2     \\\\\n",
       "\t 3      & Peach  & 200    & 7     \\\\\n",
       "\t 4      & Berry  &  50    & 9     \\\\\n",
       "\\end{tabular}\n"
      ],
      "text/markdown": [
       "\n",
       "| No | Name | Price | QTY |\n",
       "|---|---|---|---|\n",
       "| 1      | Apple  | 500    | 5      |\n",
       "| 2      | Banana | 200    | 2      |\n",
       "| 3      | Peach  | 200    | 7      |\n",
       "| 4      | Berry  |  50    | 9      |\n",
       "\n"
      ],
      "text/plain": [
       "  No Name   Price QTY\n",
       "1 1  Apple  500   5  \n",
       "2 2  Banana 200   2  \n",
       "3 3  Peach  200   7  \n",
       "4 4  Berry   50   9  "
      ]
     },
     "metadata": {},
     "output_type": "display_data"
    }
   ],
   "source": [
    "load(\"D:/data/R/test.dat\")  # 변수를 읽어옴\n",
    "ls()                        # 변수 목록 확인\n",
    "\n",
    "no\n",
    "name\n",
    "fruit"
   ]
  },
  {
   "cell_type": "code",
   "execution_count": 14,
   "metadata": {
    "scrolled": true
   },
   "outputs": [
    {
     "data": {
      "text/html": [
       "<table>\n",
       "<thead><tr><th scope=col>id</th><th scope=col>name</th><th scope=col>score</th></tr></thead>\n",
       "<tbody>\n",
       "\t<tr><td>1     </td><td>김철수</td><td>80    </td></tr>\n",
       "\t<tr><td>2     </td><td>박철호</td><td>90    </td></tr>\n",
       "\t<tr><td>3     </td><td>송기성</td><td>50    </td></tr>\n",
       "</tbody>\n",
       "</table>\n"
      ],
      "text/latex": [
       "\\begin{tabular}{r|lll}\n",
       " id & name & score\\\\\n",
       "\\hline\n",
       "\t 1      & 김철수 & 80    \\\\\n",
       "\t 2      & 박철호 & 90    \\\\\n",
       "\t 3      & 송기성 & 50    \\\\\n",
       "\\end{tabular}\n"
      ],
      "text/markdown": [
       "\n",
       "| id | name | score |\n",
       "|---|---|---|\n",
       "| 1      | 김철수 | 80     |\n",
       "| 2      | 박철호 | 90     |\n",
       "| 3      | 송기성 | 50     |\n",
       "\n"
      ],
      "text/plain": [
       "  id name   score\n",
       "1 1  김철수 80   \n",
       "2 2  박철호 90   \n",
       "3 3  송기성 50   "
      ]
     },
     "metadata": {},
     "output_type": "display_data"
    }
   ],
   "source": [
    "# csv형(= 콤마로 구분된 자료형) 데이터를 읽어온다\n",
    "x <- read.csv(\"D:/data/R/a.csv\")\n",
    "x"
   ]
  },
  {
   "cell_type": "code",
   "execution_count": 16,
   "metadata": {},
   "outputs": [
    {
     "name": "stdout",
     "output_type": "stream",
     "text": [
      "'data.frame':\t3 obs. of  3 variables:\n",
      " $ id   : int  1 2 3\n",
      " $ name : Factor w/ 3 levels \"김철수\",\"박철호\",..: 1 2 3\n",
      " $ score: int  80 90 50\n"
     ]
    }
   ],
   "source": [
    "# 데이터 구조 확인\n",
    "str(x)"
   ]
  },
  {
   "cell_type": "code",
   "execution_count": 15,
   "metadata": {},
   "outputs": [
    {
     "data": {
      "text/html": [
       "<table>\n",
       "<thead><tr><th scope=col>V1</th><th scope=col>V2</th><th scope=col>V3</th></tr></thead>\n",
       "<tbody>\n",
       "\t<tr><td>1     </td><td>김철수</td><td>80    </td></tr>\n",
       "\t<tr><td>2     </td><td>박철호</td><td>90    </td></tr>\n",
       "\t<tr><td>3     </td><td>송기성</td><td>50    </td></tr>\n",
       "</tbody>\n",
       "</table>\n"
      ],
      "text/latex": [
       "\\begin{tabular}{r|lll}\n",
       " V1 & V2 & V3\\\\\n",
       "\\hline\n",
       "\t 1      & 김철수 & 80    \\\\\n",
       "\t 2      & 박철호 & 90    \\\\\n",
       "\t 3      & 송기성 & 50    \\\\\n",
       "\\end{tabular}\n"
      ],
      "text/markdown": [
       "\n",
       "| V1 | V2 | V3 |\n",
       "|---|---|---|\n",
       "| 1      | 김철수 | 80     |\n",
       "| 2      | 박철호 | 90     |\n",
       "| 3      | 송기성 | 50     |\n",
       "\n"
      ],
      "text/plain": [
       "  V1 V2     V3\n",
       "1 1  김철수 80\n",
       "2 2  박철호 90\n",
       "3 3  송기성 50"
      ]
     },
     "metadata": {},
     "output_type": "display_data"
    },
    {
     "data": {
      "text/html": [
       "<table>\n",
       "<thead><tr><th scope=col>id</th><th scope=col>name</th><th scope=col>score</th></tr></thead>\n",
       "<tbody>\n",
       "\t<tr><td>1     </td><td>김철수</td><td>80    </td></tr>\n",
       "\t<tr><td>2     </td><td>박철호</td><td>90    </td></tr>\n",
       "\t<tr><td>3     </td><td>송기성</td><td>50    </td></tr>\n",
       "</tbody>\n",
       "</table>\n"
      ],
      "text/latex": [
       "\\begin{tabular}{r|lll}\n",
       " id & name & score\\\\\n",
       "\\hline\n",
       "\t 1      & 김철수 & 80    \\\\\n",
       "\t 2      & 박철호 & 90    \\\\\n",
       "\t 3      & 송기성 & 50    \\\\\n",
       "\\end{tabular}\n"
      ],
      "text/markdown": [
       "\n",
       "| id | name | score |\n",
       "|---|---|---|\n",
       "| 1      | 김철수 | 80     |\n",
       "| 2      | 박철호 | 90     |\n",
       "| 3      | 송기성 | 50     |\n",
       "\n"
      ],
      "text/plain": [
       "  id name   score\n",
       "1 1  김철수 80   \n",
       "2 2  박철호 90   \n",
       "3 3  송기성 50   "
      ]
     },
     "metadata": {},
     "output_type": "display_data"
    }
   ],
   "source": [
    "# CSV 파일에 헤더가 없는 경우\n",
    "(xx <- read.csv(\"D:/data/R/b.csv\", header = F))\n",
    "\n",
    "# 헤더 추가\n",
    "names(xx) <- c(\"id\", \"name\", \"score\")\n",
    "xx"
   ]
  },
  {
   "cell_type": "code",
   "execution_count": 11,
   "metadata": {},
   "outputs": [
    {
     "data": {
      "text/html": [
       "<table>\n",
       "<thead><tr><th scope=col>No</th><th scope=col>Name</th><th scope=col>Price</th><th scope=col>QTY</th></tr></thead>\n",
       "<tbody>\n",
       "\t<tr><td>1     </td><td>Apple </td><td>500   </td><td>5     </td></tr>\n",
       "\t<tr><td>2     </td><td>Banana</td><td>200   </td><td>2     </td></tr>\n",
       "\t<tr><td>3     </td><td>Peach </td><td>200   </td><td>7     </td></tr>\n",
       "\t<tr><td>4     </td><td>Berry </td><td> 50   </td><td>9     </td></tr>\n",
       "</tbody>\n",
       "</table>\n"
      ],
      "text/latex": [
       "\\begin{tabular}{r|llll}\n",
       " No & Name & Price & QTY\\\\\n",
       "\\hline\n",
       "\t 1      & Apple  & 500    & 5     \\\\\n",
       "\t 2      & Banana & 200    & 2     \\\\\n",
       "\t 3      & Peach  & 200    & 7     \\\\\n",
       "\t 4      & Berry  &  50    & 9     \\\\\n",
       "\\end{tabular}\n"
      ],
      "text/markdown": [
       "\n",
       "| No | Name | Price | QTY |\n",
       "|---|---|---|---|\n",
       "| 1      | Apple  | 500    | 5      |\n",
       "| 2      | Banana | 200    | 2      |\n",
       "| 3      | Peach  | 200    | 7      |\n",
       "| 4      | Berry  |  50    | 9      |\n",
       "\n"
      ],
      "text/plain": [
       "  No Name   Price QTY\n",
       "1 1  Apple  500   5  \n",
       "2 2  Banana 200   2  \n",
       "3 3  Peach  200   7  \n",
       "4 4  Berry   50   9  "
      ]
     },
     "metadata": {},
     "output_type": "display_data"
    }
   ],
   "source": [
    "# 파일에 저장할 데이터 만들기\n",
    "no <- c(1, 2, 3, 4)\n",
    "name <- c(\"Apple\", \"Banana\", \"Peach\", \"Berry\")\n",
    "prices <- c(500, 200, 200, 50)\n",
    "qty <- c(5, 2, 7, 9)\n",
    "\n",
    "# 벡터 형식의 데이터를 모아서 데이터 프레임 형식의 데이터로 구성\n",
    "fruit <- data.frame(No = no, Name = name, Price = prices, QTY = qty)\n",
    "fruit\n",
    "\n",
    "# 데이터를 CSV로 저장\n",
    "write.csv(fruit, file = \"d:/data/R/fruit.csv\")"
   ]
  },
  {
   "cell_type": "code",
   "execution_count": 13,
   "metadata": {
    "scrolled": true
   },
   "outputs": [
    {
     "data": {
      "text/html": [
       "<ol class=list-inline>\n",
       "\t<li>'no'</li>\n",
       "\t<li>'name'</li>\n",
       "\t<li>'birth'</li>\n",
       "\t<li>'11'</li>\n",
       "\t<li>'조광수'</li>\n",
       "\t<li>'1980'</li>\n",
       "\t<li>'22'</li>\n",
       "\t<li>'김철수'</li>\n",
       "\t<li>'1990'</li>\n",
       "\t<li>'33'</li>\n",
       "\t<li>'나상호'</li>\n",
       "\t<li>'2000'</li>\n",
       "</ol>\n"
      ],
      "text/latex": [
       "\\begin{enumerate*}\n",
       "\\item 'no'\n",
       "\\item 'name'\n",
       "\\item 'birth'\n",
       "\\item '11'\n",
       "\\item '조광수'\n",
       "\\item '1980'\n",
       "\\item '22'\n",
       "\\item '김철수'\n",
       "\\item '1990'\n",
       "\\item '33'\n",
       "\\item '나상호'\n",
       "\\item '2000'\n",
       "\\end{enumerate*}\n"
      ],
      "text/markdown": [
       "1. 'no'\n",
       "2. 'name'\n",
       "3. 'birth'\n",
       "4. '11'\n",
       "5. '조광수'\n",
       "6. '1980'\n",
       "7. '22'\n",
       "8. '김철수'\n",
       "9. '1990'\n",
       "10. '33'\n",
       "11. '나상호'\n",
       "12. '2000'\n",
       "\n",
       "\n"
      ],
      "text/plain": [
       " [1] \"no\"     \"name\"   \"birth\"  \"11\"     \"조광수\" \"1980\"   \"22\"     \"김철수\"\n",
       " [9] \"1990\"   \"33\"     \"나상호\" \"2000\"  "
      ]
     },
     "metadata": {},
     "output_type": "display_data"
    },
    {
     "data": {
      "text/html": [
       "'11'"
      ],
      "text/latex": [
       "'11'"
      ],
      "text/markdown": [
       "'11'"
      ],
      "text/plain": [
       "[1] \"11\""
      ]
     },
     "metadata": {},
     "output_type": "display_data"
    },
    {
     "name": "stdout",
     "output_type": "stream",
     "text": [
      " chr [1:12] \"no\" \"name\" \"birth\" \"11\" \"조광수\" \"1980\" \"22\" \"김철수\" \"1990\" ...\n"
     ]
    },
    {
     "data": {
      "text/html": [
       "<table>\n",
       "<thead><tr><th scope=col>no</th><th scope=col>name</th><th scope=col>birth</th></tr></thead>\n",
       "<tbody>\n",
       "\t<tr><td>11    </td><td>조광수</td><td>1980  </td></tr>\n",
       "\t<tr><td>22    </td><td>김철수</td><td>1990  </td></tr>\n",
       "\t<tr><td>33    </td><td>나상호</td><td>2000  </td></tr>\n",
       "</tbody>\n",
       "</table>\n"
      ],
      "text/latex": [
       "\\begin{tabular}{r|lll}\n",
       " no & name & birth\\\\\n",
       "\\hline\n",
       "\t 11     & 조광수 & 1980  \\\\\n",
       "\t 22     & 김철수 & 1990  \\\\\n",
       "\t 33     & 나상호 & 2000  \\\\\n",
       "\\end{tabular}\n"
      ],
      "text/markdown": [
       "\n",
       "| no | name | birth |\n",
       "|---|---|---|\n",
       "| 11     | 조광수 | 1980   |\n",
       "| 22     | 김철수 | 1990   |\n",
       "| 33     | 나상호 | 2000   |\n",
       "\n"
      ],
      "text/plain": [
       "  no name   birth\n",
       "1 11 조광수 1980 \n",
       "2 22 김철수 1990 \n",
       "3 33 나상호 2000 "
      ]
     },
     "metadata": {},
     "output_type": "display_data"
    }
   ],
   "source": [
    "# 데이터를 배열 형태로 읽어 들임\n",
    "# 공백문자, 탭, 줄 바꿈 등을 기준으로 단어 단위로 배열에 저장\n",
    "# what = \"자료형\" 다양한 자료형이 섞여 있으면 what = \"\")\n",
    "# UTF-8로 저장하지 말고 MS949(ANSI) 형식으로 저장\n",
    "a <- scan(\"D:/data/R/test.txt\", what = \"\")\n",
    "a\n",
    "a[4]\n",
    "\n",
    "# a의 자료형(chr : character)\n",
    "str(a)\n",
    "\n",
    "# 데이터를 배열 형태가 아닌 데이터 프레임 형식으로 읽음\n",
    "c <- read.table(\"D:/data/R/test.txt\", header = T, sep = \"\\t\")\n",
    "c"
   ]
  }
 ],
 "metadata": {
  "kernelspec": {
   "display_name": "R",
   "language": "R",
   "name": "ir"
  },
  "language_info": {
   "codemirror_mode": "r",
   "file_extension": ".r",
   "mimetype": "text/x-r-source",
   "name": "R",
   "pygments_lexer": "r",
   "version": "3.6.1"
  }
 },
 "nbformat": 4,
 "nbformat_minor": 2
}
