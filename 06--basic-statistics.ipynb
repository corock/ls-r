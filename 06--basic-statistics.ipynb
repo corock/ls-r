{
 "cells": [
  {
   "cell_type": "code",
   "execution_count": 1,
   "metadata": {},
   "outputs": [
    {
     "data": {
      "image/png": "[encoded data removed]",
      "text/plain": [
       "Plot with title \"Histogram of total\""
      ]
     },
     "metadata": {},
     "output_type": "display_data"
    }
   ],
   "source": [
    "# 데이터를 R로 로딩\n",
    "flour <- c(3, -2, -1, 0, 1, -2)     # 밀가루 사용\n",
    "diet <- c(-4, 1, -3, -5, -2, -8)    # 다이어트약 사용\n",
    "total <- c(flour, diet)             # 12명의 데이터\n",
    "\n",
    "# 히스토그램\n",
    "hist(total)"
   ]
  },
  {
   "cell_type": "code",
   "execution_count": 2,
   "metadata": {},
   "outputs": [
    {
     "data": {
      "image/png": "[encoded data removed]",
      "text/plain": [
       "plot without title"
      ]
     },
     "metadata": {},
     "output_type": "display_data"
    }
   ],
   "source": [
    "boxplot(flour, diet, names = c(\"flour\", \"diet\"))"
   ]
  },
  {
   "cell_type": "code",
   "execution_count": 3,
   "metadata": {},
   "outputs": [
    {
     "data": {
      "text/html": [
       "-22"
      ],
      "text/latex": [
       "-22"
      ],
      "text/markdown": [
       "-22"
      ],
      "text/plain": [
       "[1] -22"
      ]
     },
     "metadata": {},
     "output_type": "display_data"
    },
    {
     "data": {
      "text/html": [
       "<dl class=dl-horizontal>\n",
       "\t<dt>0%</dt>\n",
       "\t\t<dd>-8</dd>\n",
       "\t<dt>25%</dt>\n",
       "\t\t<dd>-3.25</dd>\n",
       "\t<dt>50%</dt>\n",
       "\t\t<dd>-2</dd>\n",
       "\t<dt>75%</dt>\n",
       "\t\t<dd>0.25</dd>\n",
       "\t<dt>100%</dt>\n",
       "\t\t<dd>3</dd>\n",
       "</dl>\n"
      ],
      "text/latex": [
       "\\begin{description*}\n",
       "\\item[0\\textbackslash{}\\%] -8\n",
       "\\item[25\\textbackslash{}\\%] -3.25\n",
       "\\item[50\\textbackslash{}\\%] -2\n",
       "\\item[75\\textbackslash{}\\%] 0.25\n",
       "\\item[100\\textbackslash{}\\%] 3\n",
       "\\end{description*}\n"
      ],
      "text/markdown": [
       "0%\n",
       ":   -825%\n",
       ":   -3.2550%\n",
       ":   -275%\n",
       ":   0.25100%\n",
       ":   3\n",
       "\n"
      ],
      "text/plain": [
       "   0%   25%   50%   75%  100% \n",
       "-8.00 -3.25 -2.00  0.25  3.00 "
      ]
     },
     "metadata": {},
     "output_type": "display_data"
    },
    {
     "data": {
      "text/html": [
       "<ol class=list-inline>\n",
       "\t<li>-8</li>\n",
       "\t<li>-3.5</li>\n",
       "\t<li>-2</li>\n",
       "\t<li>0.5</li>\n",
       "\t<li>3</li>\n",
       "</ol>\n"
      ],
      "text/latex": [
       "\\begin{enumerate*}\n",
       "\\item -8\n",
       "\\item -3.5\n",
       "\\item -2\n",
       "\\item 0.5\n",
       "\\item 3\n",
       "\\end{enumerate*}\n"
      ],
      "text/markdown": [
       "1. -8\n",
       "2. -3.5\n",
       "3. -2\n",
       "4. 0.5\n",
       "5. 3\n",
       "\n",
       "\n"
      ],
      "text/plain": [
       "[1] -8.0 -3.5 -2.0  0.5  3.0"
      ]
     },
     "metadata": {},
     "output_type": "display_data"
    },
    {
     "data": {
      "text/plain": [
       "   Min. 1st Qu.  Median    Mean 3rd Qu.    Max. \n",
       " -8.000  -3.250  -2.000  -1.833   0.250   3.000 "
      ]
     },
     "metadata": {},
     "output_type": "display_data"
    },
    {
     "data": {
      "text/html": [
       "-0.0170805051030557"
      ],
      "text/latex": [
       "-0.0170805051030557"
      ],
      "text/markdown": [
       "-0.0170805051030557"
      ],
      "text/plain": [
       "[1] -0.01708051"
      ]
     },
     "metadata": {},
     "output_type": "display_data"
    }
   ],
   "source": [
    "# 합계\n",
    "sum(total)\n",
    "\n",
    "# 사분위수\n",
    "quantile(total)\n",
    "#    0%   25%   50%  75% 100%\n",
    "# -8.00 -3.25 -2.00 0.25 3.00\n",
    "\n",
    "# min, 1Q, median, 3Q, max\n",
    "# -8.0, -3.5, -2.0, 0.5, 3.0\n",
    "fivenum(total)\n",
    "summary(total)\n",
    "\n",
    "# 상관계수\n",
    "cor(flour, diet)"
   ]
  },
  {
   "cell_type": "code",
   "execution_count": 4,
   "metadata": {},
   "outputs": [
    {
     "name": "stderr",
     "output_type": "stream",
     "text": [
      "Warning message:\n",
      "\"package 'ggplot2' was built under R version 3.6.3\""
     ]
    },
    {
     "name": "stdout",
     "output_type": "stream",
     "text": [
      " [1] 41 33 34 27 20 23 32 31 30 27 30 27 26 24 18 22 21 28 23 31 29 48 25 31 25\n",
      "[26] 35 33 35 16 24 20 11 21  8  8  4  4  3  5  6  4 13  4 16 14 10 11\n",
      " [1]  3  4  4  4  4  5  6  8  8 10 11 11 13 14 16 16 18 20 20 21 21 22 23 23 24\n",
      "[26] 24 25 25 26 27 27 27 28 29 30 30 31 31 31 32 33 33 34 35 35 41 48\n"
     ]
    }
   ],
   "source": [
    "# install.packages(\"ggplot2\")\n",
    "library(ggplot2)\n",
    "\n",
    "cafe <- read.csv(\"D:/data/cafe/data.csv\", header = T)\n",
    "\n",
    "# print(head(cafe))\n",
    "print(cafe$Coffees)\n",
    "print(sort(cafe$Coffees))  # 자료 정렬"
   ]
  },
  {
   "cell_type": "code",
   "execution_count": 5,
   "metadata": {},
   "outputs": [
    {
     "data": {
      "text/html": [
       "3"
      ],
      "text/latex": [
       "3"
      ],
      "text/markdown": [
       "3"
      ],
      "text/plain": [
       "[1] 3"
      ]
     },
     "metadata": {},
     "output_type": "display_data"
    },
    {
     "data": {
      "text/html": [
       "<ol class=list-inline>\n",
       "\t<li>48</li>\n",
       "\t<li>41</li>\n",
       "\t<li>35</li>\n",
       "\t<li>35</li>\n",
       "\t<li>34</li>\n",
       "\t<li>33</li>\n",
       "\t<li>33</li>\n",
       "\t<li>32</li>\n",
       "\t<li>31</li>\n",
       "\t<li>31</li>\n",
       "\t<li>31</li>\n",
       "\t<li>30</li>\n",
       "\t<li>30</li>\n",
       "\t<li>29</li>\n",
       "\t<li>28</li>\n",
       "\t<li>27</li>\n",
       "\t<li>27</li>\n",
       "\t<li>27</li>\n",
       "\t<li>26</li>\n",
       "\t<li>25</li>\n",
       "\t<li>25</li>\n",
       "\t<li>24</li>\n",
       "\t<li>24</li>\n",
       "\t<li>23</li>\n",
       "\t<li>23</li>\n",
       "\t<li>22</li>\n",
       "\t<li>21</li>\n",
       "\t<li>21</li>\n",
       "\t<li>20</li>\n",
       "\t<li>20</li>\n",
       "\t<li>18</li>\n",
       "\t<li>16</li>\n",
       "\t<li>16</li>\n",
       "\t<li>14</li>\n",
       "\t<li>13</li>\n",
       "\t<li>11</li>\n",
       "\t<li>11</li>\n",
       "\t<li>10</li>\n",
       "\t<li>8</li>\n",
       "\t<li>8</li>\n",
       "\t<li>6</li>\n",
       "\t<li>5</li>\n",
       "\t<li>4</li>\n",
       "\t<li>4</li>\n",
       "\t<li>4</li>\n",
       "\t<li>4</li>\n",
       "\t<li>3</li>\n",
       "</ol>\n"
      ],
      "text/latex": [
       "\\begin{enumerate*}\n",
       "\\item 48\n",
       "\\item 41\n",
       "\\item 35\n",
       "\\item 35\n",
       "\\item 34\n",
       "\\item 33\n",
       "\\item 33\n",
       "\\item 32\n",
       "\\item 31\n",
       "\\item 31\n",
       "\\item 31\n",
       "\\item 30\n",
       "\\item 30\n",
       "\\item 29\n",
       "\\item 28\n",
       "\\item 27\n",
       "\\item 27\n",
       "\\item 27\n",
       "\\item 26\n",
       "\\item 25\n",
       "\\item 25\n",
       "\\item 24\n",
       "\\item 24\n",
       "\\item 23\n",
       "\\item 23\n",
       "\\item 22\n",
       "\\item 21\n",
       "\\item 21\n",
       "\\item 20\n",
       "\\item 20\n",
       "\\item 18\n",
       "\\item 16\n",
       "\\item 16\n",
       "\\item 14\n",
       "\\item 13\n",
       "\\item 11\n",
       "\\item 11\n",
       "\\item 10\n",
       "\\item 8\n",
       "\\item 8\n",
       "\\item 6\n",
       "\\item 5\n",
       "\\item 4\n",
       "\\item 4\n",
       "\\item 4\n",
       "\\item 4\n",
       "\\item 3\n",
       "\\end{enumerate*}\n"
      ],
      "text/markdown": [
       "1. 48\n",
       "2. 41\n",
       "3. 35\n",
       "4. 35\n",
       "5. 34\n",
       "6. 33\n",
       "7. 33\n",
       "8. 32\n",
       "9. 31\n",
       "10. 31\n",
       "11. 31\n",
       "12. 30\n",
       "13. 30\n",
       "14. 29\n",
       "15. 28\n",
       "16. 27\n",
       "17. 27\n",
       "18. 27\n",
       "19. 26\n",
       "20. 25\n",
       "21. 25\n",
       "22. 24\n",
       "23. 24\n",
       "24. 23\n",
       "25. 23\n",
       "26. 22\n",
       "27. 21\n",
       "28. 21\n",
       "29. 20\n",
       "30. 20\n",
       "31. 18\n",
       "32. 16\n",
       "33. 16\n",
       "34. 14\n",
       "35. 13\n",
       "36. 11\n",
       "37. 11\n",
       "38. 10\n",
       "39. 8\n",
       "40. 8\n",
       "41. 6\n",
       "42. 5\n",
       "43. 4\n",
       "44. 4\n",
       "45. 4\n",
       "46. 4\n",
       "47. 3\n",
       "\n",
       "\n"
      ],
      "text/plain": [
       " [1] 48 41 35 35 34 33 33 32 31 31 31 30 30 29 28 27 27 27 26 25 25 24 24 23 23\n",
       "[26] 22 21 21 20 20 18 16 16 14 13 11 11 10  8  8  6  5  4  4  4  4  3"
      ]
     },
     "metadata": {},
     "output_type": "display_data"
    },
    {
     "data": {
      "text/html": [
       "48"
      ],
      "text/latex": [
       "48"
      ],
      "text/markdown": [
       "48"
      ],
      "text/plain": [
       "[1] 48"
      ]
     },
     "metadata": {},
     "output_type": "display_data"
    },
    {
     "data": {
      "text/html": [
       "3"
      ],
      "text/latex": [
       "3"
      ],
      "text/markdown": [
       "3"
      ],
      "text/plain": [
       "[1] 3"
      ]
     },
     "metadata": {},
     "output_type": "display_data"
    },
    {
     "data": {
      "text/html": [
       "48"
      ],
      "text/latex": [
       "48"
      ],
      "text/markdown": [
       "48"
      ],
      "text/plain": [
       "[1] 48"
      ]
     },
     "metadata": {},
     "output_type": "display_data"
    }
   ],
   "source": [
    "# 정렬된 값 중 첫 번째 값\n",
    "sort(cafe$Coffees)[1]\n",
    "\n",
    "# 내림차순 정렬\n",
    "sort(cafe$Coffees, decreasing = TRUE)\n",
    "\n",
    "# 내림차순 정렬된 값 중 첫 번째 값\n",
    "sort(cafe$Coffees, decreasing = TRUE)[1]\n",
    "\n",
    "# 최솟값\n",
    "min(cafe$Coffees)\n",
    "\n",
    "# 최댓값\n",
    "max(cafe$Coffees)\n",
    "\n",
    "# 하루 주문량은 3~48잔임을 알 수 있음"
   ]
  },
  {
   "cell_type": "code",
   "execution_count": 6,
   "metadata": {},
   "outputs": [
    {
     "data": {
      "text/plain": [
       "\n",
       " [0,10) [10,20) [20,30) [30,40) [40,50) \n",
       "      9       8      17      11       2 "
      ]
     },
     "metadata": {},
     "output_type": "display_data"
    }
   ],
   "source": [
    "# seq(0, 50, by = 10): 0~50까지 10씩 증가\n",
    "# right = F: 마지막 값은 선택하지 않음\n",
    "table(cut(cafe$Coffees, breaks = seq(0, 50, by = 10), right = F))\n",
    "\n",
    "# 0~9잔: 9, 10~19잔: 8, 20~29잔: 17"
   ]
  },
  {
   "cell_type": "code",
   "execution_count": 7,
   "metadata": {},
   "outputs": [
    {
     "name": "stdout",
     "output_type": "stream",
     "text": [
      "\n",
      "  The decimal point is 1 digit(s) to the right of the |\n",
      "\n",
      "  0 | 34444\n",
      "  0 | 5688\n",
      "  1 | 01134\n",
      "  1 | 668\n",
      "  2 | 001123344\n",
      "  2 | 55677789\n",
      "  3 | 001112334\n",
      "  3 | 55\n",
      "  4 | 1\n",
      "  4 | 8\n",
      "\n"
     ]
    }
   ],
   "source": [
    "ca <- cafe$Coffees\n",
    "stem(ca)\n",
    "\n",
    "# 십의 자리가 줄기, 일의 자리가 잎\n",
    "# 줄기-잎 그림: 자료를 순서대로 나열한 후 적당한 단위로 나눠 줄기 부분을 만들고 각 값을 줄기 부분에 붙인 그림"
   ]
  },
  {
   "cell_type": "code",
   "execution_count": 8,
   "metadata": {},
   "outputs": [
    {
     "data": {
      "text/html": [
       "<ol class=list-inline>\n",
       "\t<li>41</li>\n",
       "\t<li>33</li>\n",
       "\t<li>34</li>\n",
       "\t<li>27</li>\n",
       "\t<li>20</li>\n",
       "\t<li>23</li>\n",
       "\t<li>32</li>\n",
       "\t<li>31</li>\n",
       "\t<li>30</li>\n",
       "\t<li>27</li>\n",
       "\t<li>30</li>\n",
       "\t<li>27</li>\n",
       "\t<li>26</li>\n",
       "\t<li>24</li>\n",
       "\t<li>18</li>\n",
       "\t<li>22</li>\n",
       "\t<li>21</li>\n",
       "\t<li>28</li>\n",
       "\t<li>23</li>\n",
       "\t<li>31</li>\n",
       "\t<li>29</li>\n",
       "\t<li>48</li>\n",
       "\t<li>25</li>\n",
       "\t<li>31</li>\n",
       "\t<li>25</li>\n",
       "\t<li>35</li>\n",
       "\t<li>33</li>\n",
       "\t<li>35</li>\n",
       "\t<li>16</li>\n",
       "\t<li>24</li>\n",
       "\t<li>20</li>\n",
       "\t<li>11</li>\n",
       "\t<li>21</li>\n",
       "\t<li>8</li>\n",
       "\t<li>8</li>\n",
       "\t<li>4</li>\n",
       "\t<li>4</li>\n",
       "\t<li>3</li>\n",
       "\t<li>5</li>\n",
       "\t<li>6</li>\n",
       "\t<li>4</li>\n",
       "\t<li>13</li>\n",
       "\t<li>4</li>\n",
       "\t<li>16</li>\n",
       "\t<li>14</li>\n",
       "\t<li>10</li>\n",
       "\t<li>11</li>\n",
       "</ol>\n"
      ],
      "text/latex": [
       "\\begin{enumerate*}\n",
       "\\item 41\n",
       "\\item 33\n",
       "\\item 34\n",
       "\\item 27\n",
       "\\item 20\n",
       "\\item 23\n",
       "\\item 32\n",
       "\\item 31\n",
       "\\item 30\n",
       "\\item 27\n",
       "\\item 30\n",
       "\\item 27\n",
       "\\item 26\n",
       "\\item 24\n",
       "\\item 18\n",
       "\\item 22\n",
       "\\item 21\n",
       "\\item 28\n",
       "\\item 23\n",
       "\\item 31\n",
       "\\item 29\n",
       "\\item 48\n",
       "\\item 25\n",
       "\\item 31\n",
       "\\item 25\n",
       "\\item 35\n",
       "\\item 33\n",
       "\\item 35\n",
       "\\item 16\n",
       "\\item 24\n",
       "\\item 20\n",
       "\\item 11\n",
       "\\item 21\n",
       "\\item 8\n",
       "\\item 8\n",
       "\\item 4\n",
       "\\item 4\n",
       "\\item 3\n",
       "\\item 5\n",
       "\\item 6\n",
       "\\item 4\n",
       "\\item 13\n",
       "\\item 4\n",
       "\\item 16\n",
       "\\item 14\n",
       "\\item 10\n",
       "\\item 11\n",
       "\\end{enumerate*}\n"
      ],
      "text/markdown": [
       "1. 41\n",
       "2. 33\n",
       "3. 34\n",
       "4. 27\n",
       "5. 20\n",
       "6. 23\n",
       "7. 32\n",
       "8. 31\n",
       "9. 30\n",
       "10. 27\n",
       "11. 30\n",
       "12. 27\n",
       "13. 26\n",
       "14. 24\n",
       "15. 18\n",
       "16. 22\n",
       "17. 21\n",
       "18. 28\n",
       "19. 23\n",
       "20. 31\n",
       "21. 29\n",
       "22. 48\n",
       "23. 25\n",
       "24. 31\n",
       "25. 25\n",
       "26. 35\n",
       "27. 33\n",
       "28. 35\n",
       "29. 16\n",
       "30. 24\n",
       "31. 20\n",
       "32. 11\n",
       "33. 21\n",
       "34. 8\n",
       "35. 8\n",
       "36. 4\n",
       "37. 4\n",
       "38. 3\n",
       "39. 5\n",
       "40. 6\n",
       "41. 4\n",
       "42. 13\n",
       "43. 4\n",
       "44. 16\n",
       "45. 14\n",
       "46. 10\n",
       "47. 11\n",
       "\n",
       "\n"
      ],
      "text/plain": [
       " [1] 41 33 34 27 20 23 32 31 30 27 30 27 26 24 18 22 21 28 23 31 29 48 25 31 25\n",
       "[26] 35 33 35 16 24 20 11 21  8  8  4  4  3  5  6  4 13  4 16 14 10 11"
      ]
     },
     "metadata": {},
     "output_type": "display_data"
    },
    {
     "data": {
      "text/plain": [
       "ca\n",
       " 3  4  5  6  8 10 11 13 14 16 18 20 21 22 23 24 25 26 27 28 29 30 31 32 33 34 \n",
       " 1  4  1  1  2  1  2  1  1  2  1  2  2  1  2  2  2  1  3  1  1  2  3  1  2  1 \n",
       "35 41 48 \n",
       " 2  1  1 "
      ]
     },
     "metadata": {},
     "output_type": "display_data"
    },
    {
     "data": {
      "text/html": [
       "4"
      ],
      "text/latex": [
       "4"
      ],
      "text/markdown": [
       "4"
      ],
      "text/plain": [
       "[1] 4"
      ]
     },
     "metadata": {},
     "output_type": "display_data"
    }
   ],
   "source": [
    "ca\n",
    "\n",
    "# 잔별로 빈도수가 출력됨 - 3잔은 1회, 4잔은 4회, ...\n",
    "table(ca)\n",
    "max(table(ca))\n",
    "\n",
    "# 최빈값은 4임을 알 수 있다."
   ]
  },
  {
   "cell_type": "code",
   "execution_count": 9,
   "metadata": {},
   "outputs": [
    {
     "data": {
      "text/html": [
       "21.5106382978723"
      ],
      "text/latex": [
       "21.5106382978723"
      ],
      "text/markdown": [
       "21.5106382978723"
      ],
      "text/plain": [
       "[1] 21.51064"
      ]
     },
     "metadata": {},
     "output_type": "display_data"
    }
   ],
   "source": [
    "ca <- cafe$Coffees\n",
    "\n",
    "# 평균값 계산\n",
    "mean(ca)"
   ]
  },
  {
   "cell_type": "code",
   "execution_count": 10,
   "metadata": {},
   "outputs": [
    {
     "data": {
      "text/html": [
       "<ol class=list-inline>\n",
       "\t<li>16</li>\n",
       "\t<li>14</li>\n",
       "\t<li>10</li>\n",
       "\t<li>11</li>\n",
       "\t<li>&lt;NA&gt;</li>\n",
       "</ol>\n"
      ],
      "text/latex": [
       "\\begin{enumerate*}\n",
       "\\item 16\n",
       "\\item 14\n",
       "\\item 10\n",
       "\\item 11\n",
       "\\item <NA>\n",
       "\\end{enumerate*}\n"
      ],
      "text/markdown": [
       "1. 16\n",
       "2. 14\n",
       "3. 10\n",
       "4. 11\n",
       "5. &lt;NA&gt;\n",
       "\n",
       "\n"
      ],
      "text/plain": [
       "[1] 16 14 10 11 NA"
      ]
     },
     "metadata": {},
     "output_type": "display_data"
    }
   ],
   "source": [
    "# ca 변수에 결측값을 덧붙임\n",
    "ca <- c(ca, NA)\n",
    "tail(ca, n = 5)"
   ]
  },
  {
   "cell_type": "code",
   "execution_count": 11,
   "metadata": {},
   "outputs": [
    {
     "data": {
      "text/html": [
       "&lt;NA&gt;"
      ],
      "text/latex": [
       "<NA>"
      ],
      "text/markdown": [
       "&lt;NA&gt;"
      ],
      "text/plain": [
       "[1] NA"
      ]
     },
     "metadata": {},
     "output_type": "display_data"
    },
    {
     "data": {
      "text/html": [
       "21.5106382978723"
      ],
      "text/latex": [
       "21.5106382978723"
      ],
      "text/markdown": [
       "21.5106382978723"
      ],
      "text/plain": [
       "[1] 21.51064"
      ]
     },
     "metadata": {},
     "output_type": "display_data"
    }
   ],
   "source": [
    "# 결측값이 있으므로 평균값이 계산되지 않음\n",
    "mean(ca)\n",
    "\n",
    "# 결측값을 제외하고 평균 계산\n",
    "mean(ca, na.rm = T)"
   ]
  },
  {
   "cell_type": "code",
   "execution_count": 12,
   "metadata": {},
   "outputs": [
    {
     "data": {
      "text/html": [
       "<ol class=list-inline>\n",
       "\t<li>41</li>\n",
       "\t<li>33</li>\n",
       "\t<li>34</li>\n",
       "\t<li>27</li>\n",
       "\t<li>20</li>\n",
       "\t<li>23</li>\n",
       "\t<li>32</li>\n",
       "\t<li>31</li>\n",
       "\t<li>30</li>\n",
       "\t<li>27</li>\n",
       "\t<li>30</li>\n",
       "\t<li>27</li>\n",
       "\t<li>26</li>\n",
       "\t<li>24</li>\n",
       "\t<li>18</li>\n",
       "\t<li>22</li>\n",
       "\t<li>21</li>\n",
       "\t<li>28</li>\n",
       "\t<li>23</li>\n",
       "\t<li>31</li>\n",
       "\t<li>29</li>\n",
       "\t<li>48</li>\n",
       "\t<li>25</li>\n",
       "\t<li>31</li>\n",
       "\t<li>25</li>\n",
       "\t<li>35</li>\n",
       "\t<li>33</li>\n",
       "\t<li>35</li>\n",
       "\t<li>16</li>\n",
       "\t<li>24</li>\n",
       "\t<li>20</li>\n",
       "\t<li>11</li>\n",
       "\t<li>21</li>\n",
       "\t<li>8</li>\n",
       "\t<li>8</li>\n",
       "\t<li>4</li>\n",
       "\t<li>4</li>\n",
       "\t<li>3</li>\n",
       "\t<li>5</li>\n",
       "\t<li>6</li>\n",
       "\t<li>4</li>\n",
       "\t<li>13</li>\n",
       "\t<li>4</li>\n",
       "\t<li>16</li>\n",
       "\t<li>14</li>\n",
       "\t<li>10</li>\n",
       "\t<li>11</li>\n",
       "</ol>\n"
      ],
      "text/latex": [
       "\\begin{enumerate*}\n",
       "\\item 41\n",
       "\\item 33\n",
       "\\item 34\n",
       "\\item 27\n",
       "\\item 20\n",
       "\\item 23\n",
       "\\item 32\n",
       "\\item 31\n",
       "\\item 30\n",
       "\\item 27\n",
       "\\item 30\n",
       "\\item 27\n",
       "\\item 26\n",
       "\\item 24\n",
       "\\item 18\n",
       "\\item 22\n",
       "\\item 21\n",
       "\\item 28\n",
       "\\item 23\n",
       "\\item 31\n",
       "\\item 29\n",
       "\\item 48\n",
       "\\item 25\n",
       "\\item 31\n",
       "\\item 25\n",
       "\\item 35\n",
       "\\item 33\n",
       "\\item 35\n",
       "\\item 16\n",
       "\\item 24\n",
       "\\item 20\n",
       "\\item 11\n",
       "\\item 21\n",
       "\\item 8\n",
       "\\item 8\n",
       "\\item 4\n",
       "\\item 4\n",
       "\\item 3\n",
       "\\item 5\n",
       "\\item 6\n",
       "\\item 4\n",
       "\\item 13\n",
       "\\item 4\n",
       "\\item 16\n",
       "\\item 14\n",
       "\\item 10\n",
       "\\item 11\n",
       "\\end{enumerate*}\n"
      ],
      "text/markdown": [
       "1. 41\n",
       "2. 33\n",
       "3. 34\n",
       "4. 27\n",
       "5. 20\n",
       "6. 23\n",
       "7. 32\n",
       "8. 31\n",
       "9. 30\n",
       "10. 27\n",
       "11. 30\n",
       "12. 27\n",
       "13. 26\n",
       "14. 24\n",
       "15. 18\n",
       "16. 22\n",
       "17. 21\n",
       "18. 28\n",
       "19. 23\n",
       "20. 31\n",
       "21. 29\n",
       "22. 48\n",
       "23. 25\n",
       "24. 31\n",
       "25. 25\n",
       "26. 35\n",
       "27. 33\n",
       "28. 35\n",
       "29. 16\n",
       "30. 24\n",
       "31. 20\n",
       "32. 11\n",
       "33. 21\n",
       "34. 8\n",
       "35. 8\n",
       "36. 4\n",
       "37. 4\n",
       "38. 3\n",
       "39. 5\n",
       "40. 6\n",
       "41. 4\n",
       "42. 13\n",
       "43. 4\n",
       "44. 16\n",
       "45. 14\n",
       "46. 10\n",
       "47. 11\n",
       "\n",
       "\n"
      ],
      "text/plain": [
       " [1] 41 33 34 27 20 23 32 31 30 27 30 27 26 24 18 22 21 28 23 31 29 48 25 31 25\n",
       "[26] 35 33 35 16 24 20 11 21  8  8  4  4  3  5  6  4 13  4 16 14 10 11"
      ]
     },
     "metadata": {},
     "output_type": "display_data"
    },
    {
     "data": {
      "text/html": [
       "<ol class=list-inline>\n",
       "\t<li>3</li>\n",
       "\t<li>4</li>\n",
       "\t<li>4</li>\n",
       "\t<li>4</li>\n",
       "\t<li>4</li>\n",
       "\t<li>5</li>\n",
       "\t<li>6</li>\n",
       "\t<li>8</li>\n",
       "\t<li>8</li>\n",
       "\t<li>10</li>\n",
       "\t<li>11</li>\n",
       "\t<li>11</li>\n",
       "\t<li>13</li>\n",
       "\t<li>14</li>\n",
       "\t<li>16</li>\n",
       "\t<li>16</li>\n",
       "\t<li>18</li>\n",
       "\t<li>20</li>\n",
       "\t<li>20</li>\n",
       "\t<li>21</li>\n",
       "\t<li>21</li>\n",
       "\t<li>22</li>\n",
       "\t<li>23</li>\n",
       "\t<li>23</li>\n",
       "\t<li>24</li>\n",
       "\t<li>24</li>\n",
       "\t<li>25</li>\n",
       "\t<li>25</li>\n",
       "\t<li>26</li>\n",
       "\t<li>27</li>\n",
       "\t<li>27</li>\n",
       "\t<li>27</li>\n",
       "\t<li>28</li>\n",
       "\t<li>29</li>\n",
       "\t<li>30</li>\n",
       "\t<li>30</li>\n",
       "\t<li>31</li>\n",
       "\t<li>31</li>\n",
       "\t<li>31</li>\n",
       "\t<li>32</li>\n",
       "\t<li>33</li>\n",
       "\t<li>33</li>\n",
       "\t<li>34</li>\n",
       "\t<li>35</li>\n",
       "\t<li>35</li>\n",
       "\t<li>41</li>\n",
       "\t<li>48</li>\n",
       "</ol>\n"
      ],
      "text/latex": [
       "\\begin{enumerate*}\n",
       "\\item 3\n",
       "\\item 4\n",
       "\\item 4\n",
       "\\item 4\n",
       "\\item 4\n",
       "\\item 5\n",
       "\\item 6\n",
       "\\item 8\n",
       "\\item 8\n",
       "\\item 10\n",
       "\\item 11\n",
       "\\item 11\n",
       "\\item 13\n",
       "\\item 14\n",
       "\\item 16\n",
       "\\item 16\n",
       "\\item 18\n",
       "\\item 20\n",
       "\\item 20\n",
       "\\item 21\n",
       "\\item 21\n",
       "\\item 22\n",
       "\\item 23\n",
       "\\item 23\n",
       "\\item 24\n",
       "\\item 24\n",
       "\\item 25\n",
       "\\item 25\n",
       "\\item 26\n",
       "\\item 27\n",
       "\\item 27\n",
       "\\item 27\n",
       "\\item 28\n",
       "\\item 29\n",
       "\\item 30\n",
       "\\item 30\n",
       "\\item 31\n",
       "\\item 31\n",
       "\\item 31\n",
       "\\item 32\n",
       "\\item 33\n",
       "\\item 33\n",
       "\\item 34\n",
       "\\item 35\n",
       "\\item 35\n",
       "\\item 41\n",
       "\\item 48\n",
       "\\end{enumerate*}\n"
      ],
      "text/markdown": [
       "1. 3\n",
       "2. 4\n",
       "3. 4\n",
       "4. 4\n",
       "5. 4\n",
       "6. 5\n",
       "7. 6\n",
       "8. 8\n",
       "9. 8\n",
       "10. 10\n",
       "11. 11\n",
       "12. 11\n",
       "13. 13\n",
       "14. 14\n",
       "15. 16\n",
       "16. 16\n",
       "17. 18\n",
       "18. 20\n",
       "19. 20\n",
       "20. 21\n",
       "21. 21\n",
       "22. 22\n",
       "23. 23\n",
       "24. 23\n",
       "25. 24\n",
       "26. 24\n",
       "27. 25\n",
       "28. 25\n",
       "29. 26\n",
       "30. 27\n",
       "31. 27\n",
       "32. 27\n",
       "33. 28\n",
       "34. 29\n",
       "35. 30\n",
       "36. 30\n",
       "37. 31\n",
       "38. 31\n",
       "39. 31\n",
       "40. 32\n",
       "41. 33\n",
       "42. 33\n",
       "43. 34\n",
       "44. 35\n",
       "45. 35\n",
       "46. 41\n",
       "47. 48\n",
       "\n",
       "\n"
      ],
      "text/plain": [
       " [1]  3  4  4  4  4  5  6  8  8 10 11 11 13 14 16 16 18 20 20 21 21 22 23 23 24\n",
       "[26] 24 25 25 26 27 27 27 28 29 30 30 31 31 31 32 33 33 34 35 35 41 48"
      ]
     },
     "metadata": {},
     "output_type": "display_data"
    },
    {
     "data": {
      "text/html": [
       "23"
      ],
      "text/latex": [
       "23"
      ],
      "text/markdown": [
       "23"
      ],
      "text/plain": [
       "[1] 23"
      ]
     },
     "metadata": {},
     "output_type": "display_data"
    }
   ],
   "source": [
    "rc <- cafe$Coffees\n",
    "rc\n",
    "\n",
    "# 오름차순 정렬\n",
    "sort(rc)\n",
    "\n",
    "# 중앙값\n",
    "median(rc)"
   ]
  },
  {
   "cell_type": "code",
   "execution_count": 13,
   "metadata": {},
   "outputs": [
    {
     "data": {
      "text/html": [
       "170"
      ],
      "text/latex": [
       "170"
      ],
      "text/markdown": [
       "170"
      ],
      "text/plain": [
       "[1] 170"
      ]
     },
     "metadata": {},
     "output_type": "display_data"
    }
   ],
   "source": [
    "height <- c(164, 166, 168, 170, 172, 174, 176)\n",
    "\n",
    "# 평균값\n",
    "mean(height)"
   ]
  },
  {
   "cell_type": "code",
   "execution_count": 14,
   "metadata": {},
   "outputs": [
    {
     "data": {
      "text/html": [
       "170"
      ],
      "text/latex": [
       "170"
      ],
      "text/markdown": [
       "170"
      ],
      "text/plain": [
       "[1] 170"
      ]
     },
     "metadata": {},
     "output_type": "display_data"
    }
   ],
   "source": [
    "# 중앙값\n",
    "median(height)"
   ]
  },
  {
   "cell_type": "code",
   "execution_count": 15,
   "metadata": {},
   "outputs": [
    {
     "data": {
      "text/html": [
       "<ol class=list-inline>\n",
       "\t<li>-6</li>\n",
       "\t<li>-4</li>\n",
       "\t<li>-2</li>\n",
       "\t<li>0</li>\n",
       "\t<li>2</li>\n",
       "\t<li>4</li>\n",
       "\t<li>6</li>\n",
       "</ol>\n"
      ],
      "text/latex": [
       "\\begin{enumerate*}\n",
       "\\item -6\n",
       "\\item -4\n",
       "\\item -2\n",
       "\\item 0\n",
       "\\item 2\n",
       "\\item 4\n",
       "\\item 6\n",
       "\\end{enumerate*}\n"
      ],
      "text/markdown": [
       "1. -6\n",
       "2. -4\n",
       "3. -2\n",
       "4. 0\n",
       "5. 2\n",
       "6. 4\n",
       "7. 6\n",
       "\n",
       "\n"
      ],
      "text/plain": [
       "[1] -6 -4 -2  0  2  4  6"
      ]
     },
     "metadata": {},
     "output_type": "display_data"
    }
   ],
   "source": [
    "# 편차(deviation): 개별 관찰 값과 평균과의 차이\n",
    "# 편차 값을 모두 더하면 0이 되므로 의미가 없고 제곱을 해야 한다.\n",
    "height.dev <- height - mean(height)\n",
    "height.dev"
   ]
  },
  {
   "cell_type": "code",
   "execution_count": 16,
   "metadata": {},
   "outputs": [
    {
     "data": {
      "text/html": [
       "18.6666666666667"
      ],
      "text/latex": [
       "18.6666666666667"
      ],
      "text/markdown": [
       "18.6666666666667"
      ],
      "text/plain": [
       "[1] 18.66667"
      ]
     },
     "metadata": {},
     "output_type": "display_data"
    }
   ],
   "source": [
    "# 분산(Variance, 편차 제곱의 평균)\n",
    "var(height)"
   ]
  },
  {
   "cell_type": "code",
   "execution_count": 17,
   "metadata": {},
   "outputs": [
    {
     "data": {
      "text/html": [
       "4.32049379893857"
      ],
      "text/latex": [
       "4.32049379893857"
      ],
      "text/markdown": [
       "4.32049379893857"
      ],
      "text/plain": [
       "[1] 4.320494"
      ]
     },
     "metadata": {},
     "output_type": "display_data"
    }
   ],
   "source": [
    "# 표준편차\n",
    "sd(height)"
   ]
  },
  {
   "cell_type": "code",
   "execution_count": 18,
   "metadata": {},
   "outputs": [
    {
     "name": "stdout",
     "output_type": "stream",
     "text": [
      "평균 판매량:  21.5 , 표준편차:  11.08"
     ]
    }
   ],
   "source": [
    "ca <- cafe$Coffees\n",
    "ca.m <- mean(ca)\n",
    "ca.sd <- sd(ca)\n",
    "\n",
    "# cat() 함수: 문자열 연결 함수\n",
    "cat(\"평균 판매량: \", round(ca.m, 1), \", 표준편차: \", round(ca.sd, 2))"
   ]
  },
  {
   "cell_type": "code",
   "execution_count": 19,
   "metadata": {},
   "outputs": [
    {
     "data": {
      "text/html": [
       "21.5106382978723"
      ],
      "text/latex": [
       "21.5106382978723"
      ],
      "text/markdown": [
       "21.5106382978723"
      ],
      "text/plain": [
       "[1] 21.51064"
      ]
     },
     "metadata": {},
     "output_type": "display_data"
    }
   ],
   "source": [
    "coffee <- cafe$Coffees\n",
    "juice <- cafe$Juices\n",
    "\n",
    "# 커피 판매량 평균값\n",
    "(coffee.m <- mean(coffee))"
   ]
  },
  {
   "cell_type": "code",
   "execution_count": 20,
   "metadata": {},
   "outputs": [
    {
     "data": {
      "text/html": [
       "11.080480958847"
      ],
      "text/latex": [
       "11.080480958847"
      ],
      "text/markdown": [
       "11.080480958847"
      ],
      "text/plain": [
       "[1] 11.08048"
      ]
     },
     "metadata": {},
     "output_type": "display_data"
    }
   ],
   "source": [
    "# 커피 판매량의 표준편차\n",
    "(coffee.sd <- sd(coffee))"
   ]
  },
  {
   "cell_type": "code",
   "execution_count": 21,
   "metadata": {},
   "outputs": [
    {
     "data": {
      "text/html": [
       "2.04255319148936"
      ],
      "text/latex": [
       "2.04255319148936"
      ],
      "text/markdown": [
       "2.04255319148936"
      ],
      "text/plain": [
       "[1] 2.042553"
      ]
     },
     "metadata": {},
     "output_type": "display_data"
    }
   ],
   "source": [
    "# 쥬스 판매량 평균값\n",
    "(juice.m <- mean(juice))"
   ]
  },
  {
   "cell_type": "code",
   "execution_count": 22,
   "metadata": {},
   "outputs": [
    {
     "data": {
      "text/html": [
       "3.0924694424592"
      ],
      "text/latex": [
       "3.0924694424592"
      ],
      "text/markdown": [
       "3.0924694424592"
      ],
      "text/plain": [
       "[1] 3.092469"
      ]
     },
     "metadata": {},
     "output_type": "display_data"
    }
   ],
   "source": [
    "# 쥬스 판매량의 표준편차\n",
    "(juice.sd <- sd(juice))"
   ]
  },
  {
   "cell_type": "code",
   "execution_count": 23,
   "metadata": {},
   "outputs": [
    {
     "ename": "ERROR",
     "evalue": "Error in parse(text = x, srcfile = src): <text>:3:0: 예상하지 못한 입력의 끝(end of input)입니다.\n1: # 커피 판매량의 변동계수\n2: (coffee.cv <- round(coffee.sd / coffee.m, 3)\n  ^\n",
     "output_type": "error",
     "traceback": [
      "Error in parse(text = x, srcfile = src): <text>:3:0: 예상하지 못한 입력의 끝(end of input)입니다.\n1: # 커피 판매량의 변동계수\n2: (coffee.cv <- round(coffee.sd / coffee.m, 3)\n  ^\nTraceback:\n"
     ]
    }
   ],
   "source": [
    "# 커피 판매량의 변동계수\n",
    "(coffee.cv <- round(coffee.sd / coffee.m, 3)"
   ]
  },
  {
   "cell_type": "code",
   "execution_count": 24,
   "metadata": {},
   "outputs": [
    {
     "data": {
      "text/html": [
       "1.514"
      ],
      "text/latex": [
       "1.514"
      ],
      "text/markdown": [
       "1.514"
      ],
      "text/plain": [
       "[1] 1.514"
      ]
     },
     "metadata": {},
     "output_type": "display_data"
    }
   ],
   "source": [
    "# 주스 판매량의 변동계수\n",
    "(juice.cv <- round(juice.sd / juice.m, 3))\n",
    "\n",
    "# 표준편차 값을 보면 커피가 훨씬 크지만, 변동계수를 볼 때 주스가 더 크다.\n",
    "# 즉, 주스 판매량의 변동 폭이 더 크다는 것을 알 수 있다."
   ]
  },
  {
   "cell_type": "code",
   "execution_count": 25,
   "metadata": {},
   "outputs": [
    {
     "data": {
      "text/html": [
       "<dl class=dl-horizontal>\n",
       "\t<dt>0%</dt>\n",
       "\t\t<dd>3</dd>\n",
       "\t<dt>25%</dt>\n",
       "\t\t<dd>12</dd>\n",
       "\t<dt>50%</dt>\n",
       "\t\t<dd>23</dd>\n",
       "\t<dt>75%</dt>\n",
       "\t\t<dd>30</dd>\n",
       "\t<dt>100%</dt>\n",
       "\t\t<dd>48</dd>\n",
       "</dl>\n"
      ],
      "text/latex": [
       "\\begin{description*}\n",
       "\\item[0\\textbackslash{}\\%] 3\n",
       "\\item[25\\textbackslash{}\\%] 12\n",
       "\\item[50\\textbackslash{}\\%] 23\n",
       "\\item[75\\textbackslash{}\\%] 30\n",
       "\\item[100\\textbackslash{}\\%] 48\n",
       "\\end{description*}\n"
      ],
      "text/markdown": [
       "0%\n",
       ":   325%\n",
       ":   1250%\n",
       ":   2375%\n",
       ":   30100%\n",
       ":   48\n",
       "\n"
      ],
      "text/plain": [
       "  0%  25%  50%  75% 100% \n",
       "   3   12   23   30   48 "
      ]
     },
     "metadata": {},
     "output_type": "display_data"
    },
    {
     "data": {
      "text/html": [
       "18"
      ],
      "text/latex": [
       "18"
      ],
      "text/markdown": [
       "18"
      ],
      "text/plain": [
       "[1] 18"
      ]
     },
     "metadata": {},
     "output_type": "display_data"
    },
    {
     "data": {
      "image/png": "[encoded data removed]",
      "text/plain": [
       "Plot with title \"커피 판매량에 대한 상자 도표\""
      ]
     },
     "metadata": {},
     "output_type": "display_data"
    }
   ],
   "source": [
    "(qs <- quantile(coffee))\n",
    "# 25%가 되는 값(제1사분위수, Q1) 12\n",
    "# 50%가 되는 값(제2사분위수, Q2) 23\n",
    "# 75%가 되는 값(제3사분위수, Q3) 30\n",
    "# 100%가 되는 값(제4사분위수, Q4)\n",
    "\n",
    "# 사분위수 범위(InterQuartile Range, Q3 - Q1)\n",
    "IQR(coffee)\n",
    "\n",
    "bp <- boxplot(coffee, main = \"커피 판매량에 대한 상자 도표\")\n",
    "\n",
    "# 상자의 아랫변 Q1, 상자 중앙의 굵은 선 Q2, 상자의 윗변 Q3"
   ]
  },
  {
   "cell_type": "code",
   "execution_count": 26,
   "metadata": {},
   "outputs": [
    {
     "data": {
      "image/png": "[encoded data removed]",
      "text/plain": [
       "Plot with title \"Histogram of coffee\""
      ]
     },
     "metadata": {},
     "output_type": "display_data"
    }
   ],
   "source": [
    "hist(coffee)"
   ]
  },
  {
   "cell_type": "code",
   "execution_count": 27,
   "metadata": {},
   "outputs": [
    {
     "data": {
      "image/png": "[encoded data removed]",
      "text/plain": [
       "Plot with title \"Histogram of cars$dist\""
      ]
     },
     "metadata": {},
     "output_type": "display_data"
    }
   ],
   "source": [
    "# 제동거리의 히스토그램\n",
    "hist(cars$dist, breaks = seq(0, 120, 10))"
   ]
  },
  {
   "cell_type": "code",
   "execution_count": 28,
   "metadata": {},
   "outputs": [
    {
     "data": {
      "image/png": "[encoded data removed]",
      "text/plain": [
       "plot without title"
      ]
     },
     "metadata": {},
     "output_type": "display_data"
    }
   ],
   "source": [
    "# 상자 도표와 이상치\n",
    "boxplot(cars$dist)\n",
    "\n",
    "# 상자 도표에서 이상치는 작은 원으로 표시됨"
   ]
  }
 ],
 "metadata": {
  "kernelspec": {
   "display_name": "R",
   "language": "R",
   "name": "ir"
  },
  "language_info": {
   "codemirror_mode": "r",
   "file_extension": ".r",
   "mimetype": "text/x-r-source",
   "name": "R",
   "pygments_lexer": "r",
   "version": "3.6.1"
  }
 },
 "nbformat": 4,
 "nbformat_minor": 2
}
